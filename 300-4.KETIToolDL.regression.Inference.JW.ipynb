{
 "cells": [
  {
   "cell_type": "markdown",
   "id": "fd79d0c3",
   "metadata": {},
   "source": [
    "# 4. Inference"
   ]
  },
  {
   "cell_type": "code",
   "execution_count": 1,
   "id": "1611f6b2",
   "metadata": {},
   "outputs": [
    {
     "name": "stdout",
     "output_type": "stream",
     "text": [
      "cpu is available.\n"
     ]
    }
   ],
   "source": [
    "import sys, os\n",
    "sys.path.append(\"../../..\")\n",
    "\n",
    "import pathSetting\n",
    "import pandas as pd\n",
    "from KETIToolDL.CLUSTTool.common import p1_integratedDataSaving as p1\n",
    "from KETIToolDL.CLUSTTool.common import p2_dataSelection as p2\n",
    "from KETIToolDL.CLUSTTool.common import p4_testing as p4\n",
    "from KETIToolDL.CLUSTTool.Regression import p4_testing as p4R\n",
    "from KETIToolDL.CLUSTTool.RNNPrediction import p5_inference as p5\n",
    "\n",
    "import torch\n",
    "#import main_regression as mr\n",
    "device = \"cuda\" if torch.cuda.is_available() else \"cpu\"\n",
    "print(f\"{device}\" \" is available.\")"
   ]
  },
  {
   "cell_type": "markdown",
   "id": "4b4915be",
   "metadata": {},
   "source": [
    "## 4-1. (just for test) Data Preparation "
   ]
  },
  {
   "cell_type": "code",
   "execution_count": 2,
   "id": "2579d539",
   "metadata": {},
   "outputs": [
    {
     "name": "stdout",
     "output_type": "stream",
     "text": [
      "[[[40.26       40.26       40.29       ... 42.09       42.03\n",
      "   41.9       ]\n",
      "  [43.2        43.16333333 42.96333333 ... 42.36333333 42.43333333\n",
      "   42.5       ]\n",
      "  [38.53       38.5        38.63333333 ... 38.29       38.36333333\n",
      "   38.29      ]\n",
      "  ...\n",
      "  [ 4.2         4.          3.8        ...  8.3         8.33333333\n",
      "    8.36666667]\n",
      "  [40.         40.         40.         ... 40.         40.\n",
      "   40.        ]\n",
      "  [ 4.          3.83333333  3.66666667 ...  7.          6.66666667\n",
      "    6.33333333]]] [17.37000084]\n"
     ]
    }
   ],
   "source": [
    "# 0. pick only one data\n",
    "DataMeta = p1.readJsonData(pathSetting.DataMetaPath)\n",
    "dataList =  list(DataMeta.keys())\n",
    "# dataX\n",
    "\n",
    "dataName_X = dataList[2]\n",
    "dataSaveMode_X = DataMeta[dataName_X][\"integrationInfo\"][\"DataSaveMode\"]\n",
    "\n",
    "# datay\n",
    "dataName_y = dataList[3]\n",
    "dataSaveMode_y = DataMeta[dataName_y][\"integrationInfo\"][\"DataSaveMode\"]\n",
    "dataFolderName = \"data_integrated_result\"\n",
    "current = os.getcwd()\n",
    "dataFolderPath = os.path.join(current, dataFolderName)\n",
    "\n",
    "windowNum =144\n",
    "dataX = p2.getSavedIntegratedData(dataSaveMode_X, dataName_X, dataFolderPath)[:windowNum]\n",
    "datay = p2.getSavedIntegratedData(dataSaveMode_y, dataName_y, dataFolderPath)[:1]\n",
    "from KETIPreDataTransformation.dataFormatTransformation.DFToNPArray import transDFtoNP\n",
    "inputX, inputy = transDFtoNP(dataX, datay, windowNum)\n",
    "print(inputX, inputy) # Real Input"
   ]
  },
  {
   "cell_type": "code",
   "execution_count": 3,
   "id": "bbdb6e67",
   "metadata": {},
   "outputs": [],
   "source": [
    "# 1 Read Parameter and model information\n",
    "ModelMeta =p1.readJsonData(pathSetting.trainModelMetaFilePath)\n",
    "modelList = list(ModelMeta.keys())\n",
    "modelName = modelList[1]\n",
    "\n",
    "X_scalerFilePath = ModelMeta[modelName]['files']['XScalerFile'][\"filePath\"]\n",
    "y_scalerFilePath = ModelMeta[modelName]['files']['yScalerFile'][\"filePath\"]\n",
    "modelFilePath = ModelMeta[modelName]['files']['modelFile'][\"filePath\"]\n",
    "    \n",
    "featureList = ModelMeta[modelName][\"featureList\"]\n",
    "target = ModelMeta[modelName][\"target\"]\n",
    "scalerParam = ModelMeta[modelName][\"scalerParam\"]\n",
    "model_method = ModelMeta[modelName][\"model_method\"]\n",
    "trainParameter = ModelMeta[modelName][\"trainParameter\"]\n"
   ]
  },
  {
   "cell_type": "code",
   "execution_count": 4,
   "id": "59ef6a6f",
   "metadata": {},
   "outputs": [],
   "source": [
    "#2\n",
    "from KETIPreDataTransformation.dataFormatTransformation.NPArrayToDF import trans3NPtoDF\n",
    "inputXDF, y = trans3NPtoDF(inputX, inputy,'2000-1-1')"
   ]
  },
  {
   "cell_type": "code",
   "execution_count": 5,
   "id": "00efe359",
   "metadata": {},
   "outputs": [],
   "source": [
    "# 3. Scaling\n",
    "test_x, scaler_X = p4.getScaledTestData(dataX[featureList], X_scalerFilePath, scalerParam)\n",
    "test_y, scaler_y = p4.getScaledTestData(datay[target], y_scalerFilePath, scalerParam)\n",
    "# y  값은 더미 값이 들어가는 것임"
   ]
  },
  {
   "cell_type": "code",
   "execution_count": 6,
   "id": "bb72fb20",
   "metadata": {
    "scrolled": false
   },
   "outputs": [
    {
     "name": "stdout",
     "output_type": "stream",
     "text": [
      "\n",
      "Start testing data\n",
      "\n",
      "** Performance of test dataset ==> MSE = 0.07022225856781006, MAE = 0.2649948298931122\n",
      "** Dimension of result for test dataset = (1,)\n",
      "scale\n",
      "** Performance of test dataset (After Inverse Scaling)==> MSE = 30.791303634643555, MAE = 5.5489912033081055\n"
     ]
    },
    {
     "name": "stderr",
     "output_type": "stream",
     "text": [
      "/home/keti/CLUST_KETI/Clust/KETIAppTestCode/MLModelTest/RegressionModelTest/../../../KETIPreDataTransformation/dataFormatTransformation/DFToNPArray.py:37: FutureWarning: Indexing a timezone-aware DatetimeIndex with a timezone-naive datetime is deprecated and will raise KeyError in a future version. Use a timezone-aware object instead.\n",
      "  dfX_partial = dfX[startDate:endDate]\n",
      "/home/keti/CLUST_KETI/Clust/KETIAppTestCode/MLModelTest/RegressionModelTest/../../../KETIPreDataTransformation/dataFormatTransformation/DFToNPArray.py:38: FutureWarning: Indexing a timezone-aware DatetimeIndex with a timezone-naive datetime is deprecated and will raise KeyError in a future version. Use a timezone-aware object instead.\n",
      "  dfy_partial = dfy[startDate:endDate]\n",
      "/home/keti/.conda/envs/torch/lib/python3.8/site-packages/sklearn/metrics/_regression.py:796: UndefinedMetricWarning: R^2 score is not well-defined with less than two samples.\n",
      "  warnings.warn(msg, UndefinedMetricWarning)\n"
     ]
    }
   ],
   "source": [
    "# 4. Testing\n",
    "batch_size=1\n",
    "df_result, result_metrics = p4R.getResultMetrics(test_x, test_y, model_method, target, modelFilePath, scalerParam, scaler_y, trainParameter, batch_size, device)"
   ]
  },
  {
   "cell_type": "code",
   "execution_count": 7,
   "id": "290a6573",
   "metadata": {},
   "outputs": [
    {
     "data": {
      "text/html": [
       "<div>\n",
       "<style scoped>\n",
       "    .dataframe tbody tr th:only-of-type {\n",
       "        vertical-align: middle;\n",
       "    }\n",
       "\n",
       "    .dataframe tbody tr th {\n",
       "        vertical-align: top;\n",
       "    }\n",
       "\n",
       "    .dataframe thead th {\n",
       "        text-align: right;\n",
       "    }\n",
       "</style>\n",
       "<table border=\"1\" class=\"dataframe\">\n",
       "  <thead>\n",
       "    <tr style=\"text-align: right;\">\n",
       "      <th></th>\n",
       "      <th>value</th>\n",
       "      <th>prediction</th>\n",
       "    </tr>\n",
       "    <tr>\n",
       "      <th>datetime</th>\n",
       "      <th></th>\n",
       "      <th></th>\n",
       "    </tr>\n",
       "  </thead>\n",
       "  <tbody>\n",
       "    <tr>\n",
       "      <th>2021-01-01 00:00:00+00:00</th>\n",
       "      <td>17.370001</td>\n",
       "      <td>11.82101</td>\n",
       "    </tr>\n",
       "  </tbody>\n",
       "</table>\n",
       "</div>"
      ],
      "text/plain": [
       "                               value  prediction\n",
       "datetime                                        \n",
       "2021-01-01 00:00:00+00:00  17.370001    11.82101"
      ]
     },
     "execution_count": 7,
     "metadata": {},
     "output_type": "execute_result"
    }
   ],
   "source": [
    "df_result"
   ]
  },
  {
   "cell_type": "code",
   "execution_count": 8,
   "id": "427afb1a",
   "metadata": {},
   "outputs": [
    {
     "data": {
      "text/plain": [
       "['./Models/CNN_1D_rg/CLUST/Electronics/91bdf62f28aed66ed66131a647714e06_3923db46bf38313b935c61b7e06ee186/ca7a9c037e3472a21d16c0d9333203c4/model.pt']"
      ]
     },
     "execution_count": 8,
     "metadata": {},
     "output_type": "execute_result"
    }
   ],
   "source": [
    "ModelMeta[modelName]['files']['modelFile'][\"filePath\"]"
   ]
  },
  {
   "cell_type": "code",
   "execution_count": null,
   "id": "6c7e4125",
   "metadata": {},
   "outputs": [],
   "source": []
  }
 ],
 "metadata": {
  "kernelspec": {
   "display_name": "Python 3 (ipykernel)",
   "language": "python",
   "name": "python3"
  },
  "language_info": {
   "codemirror_mode": {
    "name": "ipython",
    "version": 3
   },
   "file_extension": ".py",
   "mimetype": "text/x-python",
   "name": "python",
   "nbconvert_exporter": "python",
   "pygments_lexer": "ipython3",
   "version": "3.8.13"
  },
  "vscode": {
   "interpreter": {
    "hash": "f1ef7e1f828dbb4e75f421045d2c565197efaf8469a0be4a314c6ea8378b5cb2"
   }
  }
 },
 "nbformat": 4,
 "nbformat_minor": 5
}
